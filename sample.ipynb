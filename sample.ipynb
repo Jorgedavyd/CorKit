{
 "cells": [
  {
   "cell_type": "markdown",
   "metadata": {},
   "source": [
    "# SOHO | LASCO"
   ]
  },
  {
   "cell_type": "code",
   "execution_count": 1,
   "metadata": {},
   "outputs": [],
   "source": [
    "import os\n",
    "#define the path where you want the files to be downloaded\n",
    "path = os.path.expanduser('~/Desktop/corkit_examples')"
   ]
  },
  {
   "cell_type": "code",
   "execution_count": 2,
   "metadata": {},
   "outputs": [
    {
     "name": "stdout",
     "output_type": "stream",
     "text": [
      "\n",
      "Automagic is OFF, % prefix IS needed for line magics.\n"
     ]
    }
   ],
   "source": [
    "#turn on automagic (if says OFF rerun this cell)\n",
    "%automagic"
   ]
  },
  {
   "cell_type": "markdown",
   "metadata": {},
   "source": [
    "## Downloading data"
   ]
  },
  {
   "cell_type": "code",
   "execution_count": 3,
   "metadata": {},
   "outputs": [
    {
     "ename": "ConnectionTimeoutError",
     "evalue": "Connection timeout to host https://lasco-www.nrl.navy.mil/lz/level_05/031023/c2/img_hdr.txt",
     "output_type": "error",
     "traceback": [
      "\u001b[0;31m---------------------------------------------------------------------------\u001b[0m",
      "\u001b[0;31mCancelledError\u001b[0m                            Traceback (most recent call last)",
      "File \u001b[0;32m~/env/lib/python3.12/site-packages/aiohttp/connector.py:1091\u001b[0m, in \u001b[0;36mTCPConnector._wrap_create_connection\u001b[0;34m(self, addr_infos, req, timeout, client_error, *args, **kwargs)\u001b[0m\n\u001b[1;32m   1088\u001b[0m \u001b[38;5;28;01masync\u001b[39;00m \u001b[38;5;28;01mwith\u001b[39;00m ceil_timeout(\n\u001b[1;32m   1089\u001b[0m     timeout\u001b[38;5;241m.\u001b[39msock_connect, ceil_threshold\u001b[38;5;241m=\u001b[39mtimeout\u001b[38;5;241m.\u001b[39mceil_threshold\n\u001b[1;32m   1090\u001b[0m ):\n\u001b[0;32m-> 1091\u001b[0m     sock \u001b[38;5;241m=\u001b[39m \u001b[38;5;28;01mawait\u001b[39;00m aiohappyeyeballs\u001b[38;5;241m.\u001b[39mstart_connection(\n\u001b[1;32m   1092\u001b[0m         addr_infos\u001b[38;5;241m=\u001b[39maddr_infos,\n\u001b[1;32m   1093\u001b[0m         local_addr_infos\u001b[38;5;241m=\u001b[39m\u001b[38;5;28mself\u001b[39m\u001b[38;5;241m.\u001b[39m_local_addr_infos,\n\u001b[1;32m   1094\u001b[0m         happy_eyeballs_delay\u001b[38;5;241m=\u001b[39m\u001b[38;5;28mself\u001b[39m\u001b[38;5;241m.\u001b[39m_happy_eyeballs_delay,\n\u001b[1;32m   1095\u001b[0m         interleave\u001b[38;5;241m=\u001b[39m\u001b[38;5;28mself\u001b[39m\u001b[38;5;241m.\u001b[39m_interleave,\n\u001b[1;32m   1096\u001b[0m         loop\u001b[38;5;241m=\u001b[39m\u001b[38;5;28mself\u001b[39m\u001b[38;5;241m.\u001b[39m_loop,\n\u001b[1;32m   1097\u001b[0m     )\n\u001b[1;32m   1098\u001b[0m     \u001b[38;5;28;01mreturn\u001b[39;00m \u001b[38;5;28;01mawait\u001b[39;00m \u001b[38;5;28mself\u001b[39m\u001b[38;5;241m.\u001b[39m_loop\u001b[38;5;241m.\u001b[39mcreate_connection(\u001b[38;5;241m*\u001b[39margs, \u001b[38;5;241m*\u001b[39m\u001b[38;5;241m*\u001b[39mkwargs, sock\u001b[38;5;241m=\u001b[39msock)\n",
      "File \u001b[0;32m~/env/lib/python3.12/site-packages/aiohappyeyeballs/impl.py:82\u001b[0m, in \u001b[0;36mstart_connection\u001b[0;34m(addr_infos, local_addr_infos, happy_eyeballs_delay, interleave, loop)\u001b[0m\n\u001b[1;32m     81\u001b[0m \u001b[38;5;28;01mtry\u001b[39;00m:\n\u001b[0;32m---> 82\u001b[0m     sock \u001b[38;5;241m=\u001b[39m \u001b[38;5;28;01mawait\u001b[39;00m _connect_sock(\n\u001b[1;32m     83\u001b[0m         current_loop, exceptions, addrinfo, local_addr_infos\n\u001b[1;32m     84\u001b[0m     )\n\u001b[1;32m     85\u001b[0m     \u001b[38;5;28;01mbreak\u001b[39;00m\n",
      "File \u001b[0;32m~/env/lib/python3.12/site-packages/aiohappyeyeballs/impl.py:174\u001b[0m, in \u001b[0;36m_connect_sock\u001b[0;34m(loop, exceptions, addr_info, local_addr_infos)\u001b[0m\n\u001b[1;32m    173\u001b[0m             \u001b[38;5;28;01mraise\u001b[39;00m \u001b[38;5;167;01mOSError\u001b[39;00m(\u001b[38;5;124mf\u001b[39m\u001b[38;5;124m\"\u001b[39m\u001b[38;5;124mno matching local address with \u001b[39m\u001b[38;5;132;01m{\u001b[39;00mfamily\u001b[38;5;132;01m=}\u001b[39;00m\u001b[38;5;124m found\u001b[39m\u001b[38;5;124m\"\u001b[39m)\n\u001b[0;32m--> 174\u001b[0m \u001b[38;5;28;01mawait\u001b[39;00m loop\u001b[38;5;241m.\u001b[39msock_connect(sock, address)\n\u001b[1;32m    175\u001b[0m \u001b[38;5;28;01mreturn\u001b[39;00m sock\n",
      "File \u001b[0;32m/usr/lib/python3.12/asyncio/selector_events.py:651\u001b[0m, in \u001b[0;36mBaseSelectorEventLoop.sock_connect\u001b[0;34m(self, sock, address)\u001b[0m\n\u001b[1;32m    650\u001b[0m \u001b[38;5;28;01mtry\u001b[39;00m:\n\u001b[0;32m--> 651\u001b[0m     \u001b[38;5;28;01mreturn\u001b[39;00m \u001b[38;5;28;01mawait\u001b[39;00m fut\n\u001b[1;32m    652\u001b[0m \u001b[38;5;28;01mfinally\u001b[39;00m:\n\u001b[1;32m    653\u001b[0m     \u001b[38;5;66;03m# Needed to break cycles when an exception occurs.\u001b[39;00m\n",
      "\u001b[0;31mCancelledError\u001b[0m: ",
      "\nThe above exception was the direct cause of the following exception:\n",
      "\u001b[0;31mTimeoutError\u001b[0m                              Traceback (most recent call last)",
      "File \u001b[0;32m~/env/lib/python3.12/site-packages/aiohttp/client.py:663\u001b[0m, in \u001b[0;36mClientSession._request\u001b[0;34m(self, method, str_or_url, params, data, json, cookies, headers, skip_auto_headers, auth, allow_redirects, max_redirects, compress, chunked, expect100, raise_for_status, read_until_eof, proxy, proxy_auth, timeout, verify_ssl, fingerprint, ssl_context, ssl, server_hostname, proxy_headers, trace_request_ctx, read_bufsize, auto_decompress, max_line_size, max_field_size)\u001b[0m\n\u001b[1;32m    659\u001b[0m     \u001b[38;5;28;01masync\u001b[39;00m \u001b[38;5;28;01mwith\u001b[39;00m ceil_timeout(\n\u001b[1;32m    660\u001b[0m         real_timeout\u001b[38;5;241m.\u001b[39mconnect,\n\u001b[1;32m    661\u001b[0m         ceil_threshold\u001b[38;5;241m=\u001b[39mreal_timeout\u001b[38;5;241m.\u001b[39mceil_threshold,\n\u001b[1;32m    662\u001b[0m     ):\n\u001b[0;32m--> 663\u001b[0m         conn \u001b[38;5;241m=\u001b[39m \u001b[38;5;28;01mawait\u001b[39;00m \u001b[38;5;28mself\u001b[39m\u001b[38;5;241m.\u001b[39m_connector\u001b[38;5;241m.\u001b[39mconnect(\n\u001b[1;32m    664\u001b[0m             req, traces\u001b[38;5;241m=\u001b[39mtraces, timeout\u001b[38;5;241m=\u001b[39mreal_timeout\n\u001b[1;32m    665\u001b[0m         )\n\u001b[1;32m    666\u001b[0m \u001b[38;5;28;01mexcept\u001b[39;00m asyncio\u001b[38;5;241m.\u001b[39mTimeoutError \u001b[38;5;28;01mas\u001b[39;00m exc:\n",
      "File \u001b[0;32m~/env/lib/python3.12/site-packages/aiohttp/connector.py:563\u001b[0m, in \u001b[0;36mBaseConnector.connect\u001b[0;34m(self, req, traces, timeout)\u001b[0m\n\u001b[1;32m    562\u001b[0m \u001b[38;5;28;01mtry\u001b[39;00m:\n\u001b[0;32m--> 563\u001b[0m     proto \u001b[38;5;241m=\u001b[39m \u001b[38;5;28;01mawait\u001b[39;00m \u001b[38;5;28mself\u001b[39m\u001b[38;5;241m.\u001b[39m_create_connection(req, traces, timeout)\n\u001b[1;32m    564\u001b[0m     \u001b[38;5;28;01mif\u001b[39;00m \u001b[38;5;28mself\u001b[39m\u001b[38;5;241m.\u001b[39m_closed:\n",
      "File \u001b[0;32m~/env/lib/python3.12/site-packages/aiohttp/connector.py:1032\u001b[0m, in \u001b[0;36mTCPConnector._create_connection\u001b[0;34m(self, req, traces, timeout)\u001b[0m\n\u001b[1;32m   1031\u001b[0m \u001b[38;5;28;01melse\u001b[39;00m:\n\u001b[0;32m-> 1032\u001b[0m     _, proto \u001b[38;5;241m=\u001b[39m \u001b[38;5;28;01mawait\u001b[39;00m \u001b[38;5;28mself\u001b[39m\u001b[38;5;241m.\u001b[39m_create_direct_connection(req, traces, timeout)\n\u001b[1;32m   1034\u001b[0m \u001b[38;5;28;01mreturn\u001b[39;00m proto\n",
      "File \u001b[0;32m~/env/lib/python3.12/site-packages/aiohttp/connector.py:1366\u001b[0m, in \u001b[0;36mTCPConnector._create_direct_connection\u001b[0;34m(self, req, traces, timeout, client_error)\u001b[0m\n\u001b[1;32m   1365\u001b[0m \u001b[38;5;28;01massert\u001b[39;00m last_exc \u001b[38;5;129;01mis\u001b[39;00m \u001b[38;5;129;01mnot\u001b[39;00m \u001b[38;5;28;01mNone\u001b[39;00m\n\u001b[0;32m-> 1366\u001b[0m \u001b[38;5;28;01mraise\u001b[39;00m last_exc\n",
      "File \u001b[0;32m~/env/lib/python3.12/site-packages/aiohttp/connector.py:1335\u001b[0m, in \u001b[0;36mTCPConnector._create_direct_connection\u001b[0;34m(self, req, traces, timeout, client_error)\u001b[0m\n\u001b[1;32m   1334\u001b[0m \u001b[38;5;28;01mtry\u001b[39;00m:\n\u001b[0;32m-> 1335\u001b[0m     transp, proto \u001b[38;5;241m=\u001b[39m \u001b[38;5;28;01mawait\u001b[39;00m \u001b[38;5;28mself\u001b[39m\u001b[38;5;241m.\u001b[39m_wrap_create_connection(\n\u001b[1;32m   1336\u001b[0m         \u001b[38;5;28mself\u001b[39m\u001b[38;5;241m.\u001b[39m_factory,\n\u001b[1;32m   1337\u001b[0m         timeout\u001b[38;5;241m=\u001b[39mtimeout,\n\u001b[1;32m   1338\u001b[0m         ssl\u001b[38;5;241m=\u001b[39msslcontext,\n\u001b[1;32m   1339\u001b[0m         addr_infos\u001b[38;5;241m=\u001b[39maddr_infos,\n\u001b[1;32m   1340\u001b[0m         server_hostname\u001b[38;5;241m=\u001b[39mserver_hostname,\n\u001b[1;32m   1341\u001b[0m         req\u001b[38;5;241m=\u001b[39mreq,\n\u001b[1;32m   1342\u001b[0m         client_error\u001b[38;5;241m=\u001b[39mclient_error,\n\u001b[1;32m   1343\u001b[0m     )\n\u001b[1;32m   1344\u001b[0m \u001b[38;5;28;01mexcept\u001b[39;00m (ClientConnectorError, asyncio\u001b[38;5;241m.\u001b[39mTimeoutError) \u001b[38;5;28;01mas\u001b[39;00m exc:\n",
      "File \u001b[0;32m~/env/lib/python3.12/site-packages/aiohttp/connector.py:1088\u001b[0m, in \u001b[0;36mTCPConnector._wrap_create_connection\u001b[0;34m(self, addr_infos, req, timeout, client_error, *args, **kwargs)\u001b[0m\n\u001b[1;32m   1087\u001b[0m \u001b[38;5;28;01mtry\u001b[39;00m:\n\u001b[0;32m-> 1088\u001b[0m     \u001b[38;5;28;01masync\u001b[39;00m \u001b[38;5;28;01mwith\u001b[39;00m ceil_timeout(\n\u001b[1;32m   1089\u001b[0m         timeout\u001b[38;5;241m.\u001b[39msock_connect, ceil_threshold\u001b[38;5;241m=\u001b[39mtimeout\u001b[38;5;241m.\u001b[39mceil_threshold\n\u001b[1;32m   1090\u001b[0m     ):\n\u001b[1;32m   1091\u001b[0m         sock \u001b[38;5;241m=\u001b[39m \u001b[38;5;28;01mawait\u001b[39;00m aiohappyeyeballs\u001b[38;5;241m.\u001b[39mstart_connection(\n\u001b[1;32m   1092\u001b[0m             addr_infos\u001b[38;5;241m=\u001b[39maddr_infos,\n\u001b[1;32m   1093\u001b[0m             local_addr_infos\u001b[38;5;241m=\u001b[39m\u001b[38;5;28mself\u001b[39m\u001b[38;5;241m.\u001b[39m_local_addr_infos,\n\u001b[0;32m   (...)\u001b[0m\n\u001b[1;32m   1096\u001b[0m             loop\u001b[38;5;241m=\u001b[39m\u001b[38;5;28mself\u001b[39m\u001b[38;5;241m.\u001b[39m_loop,\n\u001b[1;32m   1097\u001b[0m         )\n",
      "File \u001b[0;32m/usr/lib/python3.12/asyncio/timeouts.py:115\u001b[0m, in \u001b[0;36mTimeout.__aexit__\u001b[0;34m(self, exc_type, exc_val, exc_tb)\u001b[0m\n\u001b[1;32m    112\u001b[0m     \u001b[38;5;28;01mif\u001b[39;00m \u001b[38;5;28mself\u001b[39m\u001b[38;5;241m.\u001b[39m_task\u001b[38;5;241m.\u001b[39muncancel() \u001b[38;5;241m<\u001b[39m\u001b[38;5;241m=\u001b[39m \u001b[38;5;28mself\u001b[39m\u001b[38;5;241m.\u001b[39m_cancelling \u001b[38;5;129;01mand\u001b[39;00m exc_type \u001b[38;5;129;01mis\u001b[39;00m exceptions\u001b[38;5;241m.\u001b[39mCancelledError:\n\u001b[1;32m    113\u001b[0m         \u001b[38;5;66;03m# Since there are no new cancel requests, we're\u001b[39;00m\n\u001b[1;32m    114\u001b[0m         \u001b[38;5;66;03m# handling this.\u001b[39;00m\n\u001b[0;32m--> 115\u001b[0m         \u001b[38;5;28;01mraise\u001b[39;00m \u001b[38;5;167;01mTimeoutError\u001b[39;00m \u001b[38;5;28;01mfrom\u001b[39;00m \u001b[38;5;21;01mexc_val\u001b[39;00m\n\u001b[1;32m    116\u001b[0m \u001b[38;5;28;01melif\u001b[39;00m \u001b[38;5;28mself\u001b[39m\u001b[38;5;241m.\u001b[39m_state \u001b[38;5;129;01mis\u001b[39;00m _State\u001b[38;5;241m.\u001b[39mENTERED:\n",
      "\u001b[0;31mTimeoutError\u001b[0m: ",
      "\nThe above exception was the direct cause of the following exception:\n",
      "\u001b[0;31mConnectionTimeoutError\u001b[0m                    Traceback (most recent call last)",
      "Cell \u001b[0;32mIn[3], line 12\u001b[0m\n\u001b[1;32m      5\u001b[0m interval_time \u001b[38;5;241m=\u001b[39m [(\n\u001b[1;32m      6\u001b[0m     datetime(\u001b[38;5;241m2003\u001b[39m, \u001b[38;5;241m10\u001b[39m, \u001b[38;5;241m20\u001b[39m),\n\u001b[1;32m      7\u001b[0m     datetime(\u001b[38;5;241m2003\u001b[39m, \u001b[38;5;241m10\u001b[39m, \u001b[38;5;241m30\u001b[39m)\n\u001b[1;32m      8\u001b[0m )]\n\u001b[1;32m     10\u001b[0m lasco_down \u001b[38;5;241m=\u001b[39m downloader(\u001b[38;5;124m'\u001b[39m\u001b[38;5;124mc2\u001b[39m\u001b[38;5;124m'\u001b[39m, root \u001b[38;5;241m=\u001b[39m path) \u001b[38;5;66;03m#C2 coronagraph\u001b[39;00m\n\u001b[0;32m---> 12\u001b[0m \u001b[38;5;28;01mawait\u001b[39;00m lasco_down(interval_time)\n\u001b[1;32m     14\u001b[0m lasco_down \u001b[38;5;241m=\u001b[39m downloader(\u001b[38;5;124m'\u001b[39m\u001b[38;5;124mc3\u001b[39m\u001b[38;5;124m'\u001b[39m, root \u001b[38;5;241m=\u001b[39m path) \u001b[38;5;66;03m#C3 coronagraph\u001b[39;00m\n",
      "File \u001b[0;32m~/projects/CorKit/corkit/lasco.py:383\u001b[0m, in \u001b[0;36mdownloader.__call__\u001b[0;34m(self, scrap_date_list)\u001b[0m\n\u001b[1;32m    381\u001b[0m \u001b[38;5;28;01masync\u001b[39;00m \u001b[38;5;28;01mdef\u001b[39;00m \u001b[38;5;21m__call__\u001b[39m(\u001b[38;5;28mself\u001b[39m, scrap_date_list):\n\u001b[1;32m    382\u001b[0m     \u001b[38;5;28;01mfor\u001b[39;00m scrap_date \u001b[38;5;129;01min\u001b[39;00m scrap_date_list:\n\u001b[0;32m--> 383\u001b[0m         \u001b[38;5;28;01mawait\u001b[39;00m \u001b[38;5;28mself\u001b[39m\u001b[38;5;241m.\u001b[39mdownloader_pipeline(scrap_date)\n",
      "File \u001b[0;32m~/projects/CorKit/corkit/lasco.py:379\u001b[0m, in \u001b[0;36mdownloader.downloader_pipeline\u001b[0;34m(self, scrap_date)\u001b[0m\n\u001b[1;32m    377\u001b[0m \u001b[38;5;28;01masync\u001b[39;00m \u001b[38;5;28;01mdef\u001b[39;00m \u001b[38;5;21mdownloader_pipeline\u001b[39m(\u001b[38;5;28mself\u001b[39m, scrap_date):\n\u001b[1;32m    378\u001b[0m     \u001b[38;5;28mself\u001b[39m\u001b[38;5;241m.\u001b[39mget_check_tasks(scrap_date)\n\u001b[0;32m--> 379\u001b[0m     \u001b[38;5;28;01mawait\u001b[39;00m \u001b[38;5;28mself\u001b[39m\u001b[38;5;241m.\u001b[39mget_download_tasks()\n",
      "File \u001b[0;32m~/projects/CorKit/corkit/lasco.py:343\u001b[0m, in \u001b[0;36mdownloader.get_download_tasks\u001b[0;34m(self)\u001b[0m\n\u001b[1;32m    341\u001b[0m \u001b[38;5;28;01masync\u001b[39;00m \u001b[38;5;28;01mdef\u001b[39;00m \u001b[38;5;21mget_download_tasks\u001b[39m(\u001b[38;5;28mself\u001b[39m):\n\u001b[1;32m    342\u001b[0m     \u001b[38;5;28;01mfor\u001b[39;00m i \u001b[38;5;129;01min\u001b[39;00m \u001b[38;5;28mrange\u001b[39m(\u001b[38;5;241m0\u001b[39m, \u001b[38;5;28mlen\u001b[39m(\u001b[38;5;28mself\u001b[39m\u001b[38;5;241m.\u001b[39mnew_scrap_date_list), \u001b[38;5;28mself\u001b[39m\u001b[38;5;241m.\u001b[39mbatch_size):\n\u001b[0;32m--> 343\u001b[0m         \u001b[38;5;28;01mawait\u001b[39;00m asyncio\u001b[38;5;241m.\u001b[39mgather(\n\u001b[1;32m    344\u001b[0m             \u001b[38;5;241m*\u001b[39m[\n\u001b[1;32m    345\u001b[0m                 \u001b[38;5;28mself\u001b[39m\u001b[38;5;241m.\u001b[39mdownload_day(day)\n\u001b[1;32m    346\u001b[0m                 \u001b[38;5;28;01mfor\u001b[39;00m day \u001b[38;5;129;01min\u001b[39;00m \u001b[38;5;28mself\u001b[39m\u001b[38;5;241m.\u001b[39mnew_scrap_date_list[i : i \u001b[38;5;241m+\u001b[39m \u001b[38;5;28mself\u001b[39m\u001b[38;5;241m.\u001b[39mbatch_size]\n\u001b[1;32m    347\u001b[0m             ]\n\u001b[1;32m    348\u001b[0m         )\n",
      "File \u001b[0;32m~/projects/CorKit/corkit/lasco.py:351\u001b[0m, in \u001b[0;36mdownloader.download_day\u001b[0;34m(self, day)\u001b[0m\n\u001b[1;32m    350\u001b[0m \u001b[38;5;28;01masync\u001b[39;00m \u001b[38;5;28;01mdef\u001b[39;00m \u001b[38;5;21mdownload_day\u001b[39m(\u001b[38;5;28mself\u001b[39m, day):\n\u001b[0;32m--> 351\u001b[0m     names_hours \u001b[38;5;241m=\u001b[39m \u001b[38;5;28;01mawait\u001b[39;00m asyncio\u001b[38;5;241m.\u001b[39mgather(\u001b[38;5;28mself\u001b[39m\u001b[38;5;241m.\u001b[39mscrap_metadata(\u001b[38;5;28mself\u001b[39m\u001b[38;5;241m.\u001b[39murl_img_txt(day)))\n\u001b[1;32m    352\u001b[0m     \u001b[38;5;28;01mawait\u001b[39;00m asyncio\u001b[38;5;241m.\u001b[39mgather(\n\u001b[1;32m    353\u001b[0m         \u001b[38;5;241m*\u001b[39m[\n\u001b[1;32m    354\u001b[0m             \u001b[38;5;28mself\u001b[39m\u001b[38;5;241m.\u001b[39mdownload_url(name, day, hour)\n\u001b[0;32m   (...)\u001b[0m\n\u001b[1;32m    357\u001b[0m         ]\n\u001b[1;32m    358\u001b[0m     )\n",
      "File \u001b[0;32m~/projects/CorKit/corkit/lasco.py:370\u001b[0m, in \u001b[0;36mdownloader.scrap_metadata\u001b[0;34m(self, url)\u001b[0m\n\u001b[1;32m    368\u001b[0m \u001b[38;5;28;01masync\u001b[39;00m \u001b[38;5;28;01mdef\u001b[39;00m \u001b[38;5;21mscrap_metadata\u001b[39m(\u001b[38;5;28mself\u001b[39m, url):\n\u001b[1;32m    369\u001b[0m     \u001b[38;5;28;01masync\u001b[39;00m \u001b[38;5;28;01mwith\u001b[39;00m aiohttp\u001b[38;5;241m.\u001b[39mClientSession() \u001b[38;5;28;01mas\u001b[39;00m session:\n\u001b[0;32m--> 370\u001b[0m         \u001b[38;5;28;01masync\u001b[39;00m \u001b[38;5;28;01mwith\u001b[39;00m session\u001b[38;5;241m.\u001b[39mget(url, ssl\u001b[38;5;241m=\u001b[39m\u001b[38;5;28;01mFalse\u001b[39;00m) \u001b[38;5;28;01mas\u001b[39;00m response:\n\u001b[1;32m    371\u001b[0m             data \u001b[38;5;241m=\u001b[39m \u001b[38;5;28;01mawait\u001b[39;00m response\u001b[38;5;241m.\u001b[39mtext()\n\u001b[1;32m    372\u001b[0m             \u001b[38;5;28;01mreturn\u001b[39;00m {\n\u001b[1;32m    373\u001b[0m                 line\u001b[38;5;241m.\u001b[39msplit()[\u001b[38;5;241m0\u001b[39m]: line\u001b[38;5;241m.\u001b[39msplit()[\u001b[38;5;241m2\u001b[39m]\u001b[38;5;241m.\u001b[39mreplace(\u001b[38;5;124m\"\u001b[39m\u001b[38;5;124m:\u001b[39m\u001b[38;5;124m\"\u001b[39m, \u001b[38;5;124m\"\u001b[39m\u001b[38;5;124m\"\u001b[39m)\n\u001b[1;32m    374\u001b[0m                 \u001b[38;5;28;01mfor\u001b[39;00m line \u001b[38;5;129;01min\u001b[39;00m data\u001b[38;5;241m.\u001b[39msplit(\u001b[38;5;124m\"\u001b[39m\u001b[38;5;130;01m\\n\u001b[39;00m\u001b[38;5;124m\"\u001b[39m)[:\u001b[38;5;241m-\u001b[39m\u001b[38;5;241m1\u001b[39m]\n\u001b[1;32m    375\u001b[0m             }\n",
      "File \u001b[0;32m~/env/lib/python3.12/site-packages/aiohttp/client.py:1359\u001b[0m, in \u001b[0;36m_BaseRequestContextManager.__aenter__\u001b[0;34m(self)\u001b[0m\n\u001b[1;32m   1358\u001b[0m \u001b[38;5;28;01masync\u001b[39;00m \u001b[38;5;28;01mdef\u001b[39;00m \u001b[38;5;21m__aenter__\u001b[39m(\u001b[38;5;28mself\u001b[39m) \u001b[38;5;241m-\u001b[39m\u001b[38;5;241m>\u001b[39m _RetType:\n\u001b[0;32m-> 1359\u001b[0m     \u001b[38;5;28mself\u001b[39m\u001b[38;5;241m.\u001b[39m_resp: _RetType \u001b[38;5;241m=\u001b[39m \u001b[38;5;28;01mawait\u001b[39;00m \u001b[38;5;28mself\u001b[39m\u001b[38;5;241m.\u001b[39m_coro\n\u001b[1;32m   1360\u001b[0m     \u001b[38;5;28;01mreturn\u001b[39;00m \u001b[38;5;28;01mawait\u001b[39;00m \u001b[38;5;28mself\u001b[39m\u001b[38;5;241m.\u001b[39m_resp\u001b[38;5;241m.\u001b[39m\u001b[38;5;21m__aenter__\u001b[39m()\n",
      "File \u001b[0;32m~/env/lib/python3.12/site-packages/aiohttp/client.py:667\u001b[0m, in \u001b[0;36mClientSession._request\u001b[0;34m(self, method, str_or_url, params, data, json, cookies, headers, skip_auto_headers, auth, allow_redirects, max_redirects, compress, chunked, expect100, raise_for_status, read_until_eof, proxy, proxy_auth, timeout, verify_ssl, fingerprint, ssl_context, ssl, server_hostname, proxy_headers, trace_request_ctx, read_bufsize, auto_decompress, max_line_size, max_field_size)\u001b[0m\n\u001b[1;32m    663\u001b[0m         conn \u001b[38;5;241m=\u001b[39m \u001b[38;5;28;01mawait\u001b[39;00m \u001b[38;5;28mself\u001b[39m\u001b[38;5;241m.\u001b[39m_connector\u001b[38;5;241m.\u001b[39mconnect(\n\u001b[1;32m    664\u001b[0m             req, traces\u001b[38;5;241m=\u001b[39mtraces, timeout\u001b[38;5;241m=\u001b[39mreal_timeout\n\u001b[1;32m    665\u001b[0m         )\n\u001b[1;32m    666\u001b[0m \u001b[38;5;28;01mexcept\u001b[39;00m asyncio\u001b[38;5;241m.\u001b[39mTimeoutError \u001b[38;5;28;01mas\u001b[39;00m exc:\n\u001b[0;32m--> 667\u001b[0m     \u001b[38;5;28;01mraise\u001b[39;00m ConnectionTimeoutError(\n\u001b[1;32m    668\u001b[0m         \u001b[38;5;124mf\u001b[39m\u001b[38;5;124m\"\u001b[39m\u001b[38;5;124mConnection timeout to host \u001b[39m\u001b[38;5;132;01m{\u001b[39;00murl\u001b[38;5;132;01m}\u001b[39;00m\u001b[38;5;124m\"\u001b[39m\n\u001b[1;32m    669\u001b[0m     ) \u001b[38;5;28;01mfrom\u001b[39;00m \u001b[38;5;21;01mexc\u001b[39;00m\n\u001b[1;32m    671\u001b[0m \u001b[38;5;28;01massert\u001b[39;00m conn\u001b[38;5;241m.\u001b[39mtransport \u001b[38;5;129;01mis\u001b[39;00m \u001b[38;5;129;01mnot\u001b[39;00m \u001b[38;5;28;01mNone\u001b[39;00m\n\u001b[1;32m    673\u001b[0m \u001b[38;5;28;01massert\u001b[39;00m conn\u001b[38;5;241m.\u001b[39mprotocol \u001b[38;5;129;01mis\u001b[39;00m \u001b[38;5;129;01mnot\u001b[39;00m \u001b[38;5;28;01mNone\u001b[39;00m\n",
      "\u001b[0;31mConnectionTimeoutError\u001b[0m: Connection timeout to host https://lasco-www.nrl.navy.mil/lz/level_05/031023/c2/img_hdr.txt"
     ]
    }
   ],
   "source": [
    "from corkit.lasco import downloader\n",
    "from datetime import datetime\n",
    "\n",
    "#Give a tuple with datetime values, doesn't expect resolutions higher than days.\n",
    "interval_time = [(\n",
    "    datetime(2003, 10, 20),\n",
    "    datetime(2003, 10, 30)\n",
    ")]\n",
    "\n",
    "lasco_down = downloader('c2', root = path) #C2 coronagraph\n",
    "\n",
    "await lasco_down(interval_time)\n",
    "\n",
    "lasco_down = downloader('c3', root = path) #C3 coronagraph"
   ]
  },
  {
   "cell_type": "code",
   "execution_count": null,
   "metadata": {},
   "outputs": [],
   "source": [
    "#c2 coronagraph\n",
    "sorted(list(filter(lambda x: '20031028' in x, os.listdir(os.path.join(path, 'c2')))))"
   ]
  },
  {
   "cell_type": "code",
   "execution_count": null,
   "metadata": {},
   "outputs": [],
   "source": [
    "#c3 coronagraph\n",
    "sorted(list(filter(lambda x: '20031028' in x, os.listdir(os.path.join(path, 'c3')))))"
   ]
  },
  {
   "cell_type": "markdown",
   "metadata": {},
   "source": [
    "## Calibrating data"
   ]
  },
  {
   "cell_type": "code",
   "execution_count": null,
   "metadata": {},
   "outputs": [],
   "source": [
    "from corkit.lasco import level_1\n",
    "\n",
    "file = os.path.join(path, 'c2', '20031028_125405.fits')\n",
    "\n",
    "img, header = level_1(\n",
    "    file, \n",
    "    os.path.join(path, 'prueba.fits') #saves the file here\n",
    ")"
   ]
  },
  {
   "cell_type": "code",
   "execution_count": null,
   "metadata": {},
   "outputs": [],
   "source": [
    "from astropy.visualization import HistEqStretch, ImageNormalize\n",
    "import matplotlib.pyplot as plt\n",
    "from corkit.utils import FITS\n",
    "import numpy as np\n",
    "import matplotlib\n",
    "import copy\n",
    "import os\n",
    "#official level 1 (SolarSoft)\n",
    "img1 , header1 = FITS('docs/examples/25157677.fits')\n",
    "print(header1['date-obs'])\n",
    "def prepare_img(img):\n",
    "    finite_data = img[np.isfinite(img)]\n",
    "    norm = ImageNormalize(stretch=HistEqStretch(finite_data))\n",
    "    return norm\n",
    "\n",
    "norm = prepare_img(img)\n",
    "norm1 = prepare_img(img1)\n",
    "\n",
    "#plot\n",
    "fig, ax = plt.subplots(1, 2)\n",
    "cmap = copy.copy(matplotlib.colormaps['gray'])\n",
    "cmap.set_bad(color='red')\n",
    "\n",
    "# For CorKit\n",
    "im1 = ax[0].imshow(img, norm=norm, interpolation='nearest', origin='lower')\n",
    "ax[0].set(title='Corkit')\n",
    "ax[0].set_facecolor('black')  \n",
    "ax[0].set_xticks([])  \n",
    "ax[0].set_yticks([]) \n",
    "\n",
    "# For Solarsoft\n",
    "im2 = ax[1].imshow(img1, norm=norm1, interpolation='nearest', origin='lower')\n",
    "ax[1].set(title='SolarSoft')\n",
    "ax[1].set_facecolor('black') \n",
    "ax[1].set_xticks([])  \n",
    "ax[1].set_yticks([])  \n",
    "\n",
    "fig.patch.set_facecolor('black')\n",
    "\n",
    "for axis in ax:\n",
    "    axis.title.set_color('white')\n",
    "\n",
    "plt.savefig('docs/examples/c2.png', facecolor='black', bbox_inches='tight')\n",
    "\n",
    "plt.show()"
   ]
  },
  {
   "cell_type": "markdown",
   "metadata": {},
   "source": [
    "## Studying CMEs"
   ]
  },
  {
   "cell_type": "code",
   "execution_count": null,
   "metadata": {},
   "outputs": [],
   "source": [
    "from corkit.lasco import CME\n",
    "from astropy.io import fits\n",
    "\n",
    "cme_analysis = CME()\n",
    "\n",
    "bn = os.path.join(path, 'c2', '20031028_113005.fits')\n",
    "fn = os.path.join(path, 'c2', '20031028_115405.fits')\n",
    "\n",
    "## We need a base img and final image to compute the mass of the CME\n",
    "mass_img = cme_analysis.mass(bn, fn, ALL = True)\n",
    "\n",
    "cme_analysis.plot(mass_img, fits.getheader(fn))"
   ]
  },
  {
   "cell_type": "code",
   "execution_count": null,
   "metadata": {},
   "outputs": [],
   "source": [
    "bn = os.path.join(path, 'c3', '20031028_121805.fits')\n",
    "fn = os.path.join(path, 'c3', '20031028_124207.fits')\n",
    "\n",
    "mass_img = cme_analysis.mass(bn, fn, ALL = True)\n",
    "\n",
    "cme_analysis.plot(mass_img, fits.getheader(fn))"
   ]
  },
  {
   "cell_type": "code",
   "execution_count": null,
   "metadata": {},
   "outputs": [],
   "source": [
    "bn = os.path.join(path, 'c3', '20031028_204917.fits')\n",
    "fn = os.path.join(path, 'c3', '20031028_212754.fits')\n",
    "\n",
    "mass_img = cme_analysis.mass(bn, fn, ALL = True)\n",
    "\n",
    "cme_analysis.plot(mass_img, fits.getheader(fn))"
   ]
  }
 ],
 "metadata": {
  "kernelspec": {
   "display_name": "Python 3 (ipykernel)",
   "language": "python",
   "name": "python3"
  },
  "language_info": {
   "codemirror_mode": {
    "name": "ipython",
    "version": 3
   },
   "file_extension": ".py",
   "mimetype": "text/x-python",
   "name": "python",
   "nbconvert_exporter": "python",
   "pygments_lexer": "ipython3",
   "version": "3.12.7"
  }
 },
 "nbformat": 4,
 "nbformat_minor": 4
}
