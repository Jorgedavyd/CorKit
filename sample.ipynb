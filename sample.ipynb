{
 "cells": [
  {
   "cell_type": "markdown",
   "metadata": {},
   "source": [
    "# SOHO | LASCO"
   ]
  },
  {
   "cell_type": "code",
   "execution_count": 1,
   "metadata": {},
   "outputs": [],
   "source": [
    "import os\n",
    "#define the path where you want the files to be downloaded\n",
    "path = os.path.expanduser('~/Desktop/corkit_examples')"
   ]
  },
  {
   "cell_type": "code",
   "execution_count": 2,
   "metadata": {},
   "outputs": [
    {
     "name": "stdout",
     "output_type": "stream",
     "text": [
      "\n",
      "Automagic is OFF, % prefix IS needed for line magics.\n"
     ]
    }
   ],
   "source": [
    "#turn on automagic (if says OFF rerun this cell)\n",
    "%automagic"
   ]
  },
  {
   "cell_type": "markdown",
   "metadata": {},
   "source": [
    "## Downloading data"
   ]
  },
  {
   "cell_type": "code",
   "execution_count": 4,
   "metadata": {},
   "outputs": [
    {
     "ename": "ClientPayloadError",
     "evalue": "Response payload is not completed: <ContentLengthError: 400, message='Not enough data for satisfy content length header.'>",
     "output_type": "error",
     "traceback": [
      "\u001b[0;31m---------------------------------------------------------------------------\u001b[0m",
      "\u001b[0;31mContentLengthError\u001b[0m                        Traceback (most recent call last)",
      "File \u001b[0;32m~/env/lib/python3.12/site-packages/aiohttp/client_proto.py:92\u001b[0m, in \u001b[0;36mResponseHandler.connection_lost\u001b[0;34m(self, exc)\u001b[0m\n\u001b[1;32m     91\u001b[0m \u001b[38;5;28;01mtry\u001b[39;00m:\n\u001b[0;32m---> 92\u001b[0m     uncompleted \u001b[38;5;241m=\u001b[39m \u001b[38;5;28;43mself\u001b[39;49m\u001b[38;5;241;43m.\u001b[39;49m\u001b[43m_parser\u001b[49m\u001b[38;5;241;43m.\u001b[39;49m\u001b[43mfeed_eof\u001b[49m\u001b[43m(\u001b[49m\u001b[43m)\u001b[49m\n\u001b[1;32m     93\u001b[0m \u001b[38;5;28;01mexcept\u001b[39;00m \u001b[38;5;167;01mException\u001b[39;00m \u001b[38;5;28;01mas\u001b[39;00m underlying_exc:\n",
      "File \u001b[0;32m~/env/lib/python3.12/site-packages/aiohttp/_http_parser.pyx:516\u001b[0m, in \u001b[0;36maiohttp._http_parser.HttpParser.feed_eof\u001b[0;34m()\u001b[0m\n",
      "\u001b[0;31mContentLengthError\u001b[0m: 400, message:\n  Not enough data for satisfy content length header.",
      "\nThe above exception was the direct cause of the following exception:\n",
      "\u001b[0;31mClientPayloadError\u001b[0m                        Traceback (most recent call last)",
      "Cell \u001b[0;32mIn[4], line 12\u001b[0m\n\u001b[1;32m      5\u001b[0m interval_time \u001b[38;5;241m=\u001b[39m [(\n\u001b[1;32m      6\u001b[0m     datetime(\u001b[38;5;241m2003\u001b[39m, \u001b[38;5;241m10\u001b[39m, \u001b[38;5;241m20\u001b[39m),\n\u001b[1;32m      7\u001b[0m     datetime(\u001b[38;5;241m2003\u001b[39m, \u001b[38;5;241m10\u001b[39m, \u001b[38;5;241m30\u001b[39m)\n\u001b[1;32m      8\u001b[0m )]\n\u001b[1;32m     10\u001b[0m lasco_down \u001b[38;5;241m=\u001b[39m downloader(\u001b[38;5;124m'\u001b[39m\u001b[38;5;124mc2\u001b[39m\u001b[38;5;124m'\u001b[39m, root \u001b[38;5;241m=\u001b[39m path) \u001b[38;5;66;03m#C2 coronagraph\u001b[39;00m\n\u001b[0;32m---> 12\u001b[0m \u001b[38;5;28;01mawait\u001b[39;00m lasco_down(interval_time)\n\u001b[1;32m     14\u001b[0m lasco_down \u001b[38;5;241m=\u001b[39m downloader(\u001b[38;5;124m'\u001b[39m\u001b[38;5;124mc3\u001b[39m\u001b[38;5;124m'\u001b[39m, root \u001b[38;5;241m=\u001b[39m path) \u001b[38;5;66;03m#C3 coronagraph\u001b[39;00m\n",
      "File \u001b[0;32m~/projects/CorKit/corkit/lasco.py:387\u001b[0m, in \u001b[0;36mdownloader.__call__\u001b[0;34m(self, scrap_date_list)\u001b[0m\n\u001b[1;32m    385\u001b[0m \u001b[38;5;28;01masync\u001b[39;00m \u001b[38;5;28;01mdef\u001b[39;00m \u001b[38;5;21m__call__\u001b[39m(\u001b[38;5;28mself\u001b[39m, scrap_date_list):\n\u001b[1;32m    386\u001b[0m     \u001b[38;5;28;01mfor\u001b[39;00m scrap_date \u001b[38;5;129;01min\u001b[39;00m scrap_date_list:\n\u001b[0;32m--> 387\u001b[0m         \u001b[38;5;28;01mawait\u001b[39;00m \u001b[38;5;28mself\u001b[39m\u001b[38;5;241m.\u001b[39mdownloader_pipeline(scrap_date)\n",
      "File \u001b[0;32m~/projects/CorKit/corkit/lasco.py:383\u001b[0m, in \u001b[0;36mdownloader.downloader_pipeline\u001b[0;34m(self, scrap_date)\u001b[0m\n\u001b[1;32m    381\u001b[0m \u001b[38;5;28;01masync\u001b[39;00m \u001b[38;5;28;01mdef\u001b[39;00m \u001b[38;5;21mdownloader_pipeline\u001b[39m(\u001b[38;5;28mself\u001b[39m, scrap_date):\n\u001b[1;32m    382\u001b[0m     \u001b[38;5;28mself\u001b[39m\u001b[38;5;241m.\u001b[39mget_check_tasks(scrap_date)\n\u001b[0;32m--> 383\u001b[0m     \u001b[38;5;28;01mawait\u001b[39;00m \u001b[38;5;28mself\u001b[39m\u001b[38;5;241m.\u001b[39mget_download_tasks()\n",
      "File \u001b[0;32m~/projects/CorKit/corkit/lasco.py:347\u001b[0m, in \u001b[0;36mdownloader.get_download_tasks\u001b[0;34m(self)\u001b[0m\n\u001b[1;32m    345\u001b[0m \u001b[38;5;28;01masync\u001b[39;00m \u001b[38;5;28;01mdef\u001b[39;00m \u001b[38;5;21mget_download_tasks\u001b[39m(\u001b[38;5;28mself\u001b[39m):\n\u001b[1;32m    346\u001b[0m     \u001b[38;5;28;01mfor\u001b[39;00m i \u001b[38;5;129;01min\u001b[39;00m \u001b[38;5;28mrange\u001b[39m(\u001b[38;5;241m0\u001b[39m, \u001b[38;5;28mlen\u001b[39m(\u001b[38;5;28mself\u001b[39m\u001b[38;5;241m.\u001b[39mnew_scrap_date_list), \u001b[38;5;28mself\u001b[39m\u001b[38;5;241m.\u001b[39mbatch_size):\n\u001b[0;32m--> 347\u001b[0m         \u001b[38;5;28;01mawait\u001b[39;00m asyncio\u001b[38;5;241m.\u001b[39mgather(\n\u001b[1;32m    348\u001b[0m             \u001b[38;5;241m*\u001b[39m[\n\u001b[1;32m    349\u001b[0m                 \u001b[38;5;28mself\u001b[39m\u001b[38;5;241m.\u001b[39mdownload_day(day)\n\u001b[1;32m    350\u001b[0m                 \u001b[38;5;28;01mfor\u001b[39;00m day \u001b[38;5;129;01min\u001b[39;00m \u001b[38;5;28mself\u001b[39m\u001b[38;5;241m.\u001b[39mnew_scrap_date_list[i : i \u001b[38;5;241m+\u001b[39m \u001b[38;5;28mself\u001b[39m\u001b[38;5;241m.\u001b[39mbatch_size]\n\u001b[1;32m    351\u001b[0m             ]\n\u001b[1;32m    352\u001b[0m         )\n",
      "File \u001b[0;32m~/projects/CorKit/corkit/lasco.py:356\u001b[0m, in \u001b[0;36mdownloader.download_day\u001b[0;34m(self, day)\u001b[0m\n\u001b[1;32m    354\u001b[0m \u001b[38;5;28;01masync\u001b[39;00m \u001b[38;5;28;01mdef\u001b[39;00m \u001b[38;5;21mdownload_day\u001b[39m(\u001b[38;5;28mself\u001b[39m, day):\n\u001b[1;32m    355\u001b[0m     names_hours \u001b[38;5;241m=\u001b[39m \u001b[38;5;28;01mawait\u001b[39;00m asyncio\u001b[38;5;241m.\u001b[39mgather(\u001b[38;5;28mself\u001b[39m\u001b[38;5;241m.\u001b[39mscrap_metadata(\u001b[38;5;28mself\u001b[39m\u001b[38;5;241m.\u001b[39murl_img_txt(day)))\n\u001b[0;32m--> 356\u001b[0m     \u001b[38;5;28;01mawait\u001b[39;00m asyncio\u001b[38;5;241m.\u001b[39mgather(\n\u001b[1;32m    357\u001b[0m         \u001b[38;5;241m*\u001b[39m[\n\u001b[1;32m    358\u001b[0m             \u001b[38;5;28mself\u001b[39m\u001b[38;5;241m.\u001b[39mdownload_url(name, day, hour)\n\u001b[1;32m    359\u001b[0m             \u001b[38;5;28;01mfor\u001b[39;00m c \u001b[38;5;129;01min\u001b[39;00m names_hours\n\u001b[1;32m    360\u001b[0m             \u001b[38;5;28;01mfor\u001b[39;00m name, hour \u001b[38;5;129;01min\u001b[39;00m c\u001b[38;5;241m.\u001b[39mitems()\n\u001b[1;32m    361\u001b[0m         ]\n\u001b[1;32m    362\u001b[0m     )\n",
      "File \u001b[0;32m~/projects/CorKit/corkit/lasco.py:370\u001b[0m, in \u001b[0;36mdownloader.download_url\u001b[0;34m(self, name, day, hour)\u001b[0m\n\u001b[1;32m    365\u001b[0m \u001b[38;5;28;01masync\u001b[39;00m \u001b[38;5;28;01mwith\u001b[39;00m aiohttp\u001b[38;5;241m.\u001b[39mClientSession() \u001b[38;5;28;01mas\u001b[39;00m session:\n\u001b[1;32m    366\u001b[0m     \u001b[38;5;28;01masync\u001b[39;00m \u001b[38;5;28;01mwith\u001b[39;00m (\n\u001b[1;32m    367\u001b[0m         session\u001b[38;5;241m.\u001b[39mget(\u001b[38;5;28mself\u001b[39m\u001b[38;5;241m.\u001b[39murl(day, name), ssl\u001b[38;5;241m=\u001b[39m\u001b[38;5;28;01mFalse\u001b[39;00m) \u001b[38;5;28;01mas\u001b[39;00m response,\n\u001b[1;32m    368\u001b[0m         aiofiles\u001b[38;5;241m.\u001b[39mopen(\u001b[38;5;28mself\u001b[39m\u001b[38;5;241m.\u001b[39mfits_root(day, hour), \u001b[38;5;124m\"\u001b[39m\u001b[38;5;124mwb\u001b[39m\u001b[38;5;124m\"\u001b[39m) \u001b[38;5;28;01mas\u001b[39;00m f,\n\u001b[1;32m    369\u001b[0m     ):\n\u001b[0;32m--> 370\u001b[0m         \u001b[38;5;28;01mawait\u001b[39;00m f\u001b[38;5;241m.\u001b[39mwrite(\u001b[38;5;28;01mawait\u001b[39;00m response\u001b[38;5;241m.\u001b[39mread())\n",
      "File \u001b[0;32m~/env/lib/python3.12/site-packages/aiohttp/client_reqrep.py:1214\u001b[0m, in \u001b[0;36mClientResponse.read\u001b[0;34m(self)\u001b[0m\n\u001b[1;32m   1212\u001b[0m \u001b[38;5;28;01mif\u001b[39;00m \u001b[38;5;28mself\u001b[39m\u001b[38;5;241m.\u001b[39m_body \u001b[38;5;129;01mis\u001b[39;00m \u001b[38;5;28;01mNone\u001b[39;00m:\n\u001b[1;32m   1213\u001b[0m     \u001b[38;5;28;01mtry\u001b[39;00m:\n\u001b[0;32m-> 1214\u001b[0m         \u001b[38;5;28mself\u001b[39m\u001b[38;5;241m.\u001b[39m_body \u001b[38;5;241m=\u001b[39m \u001b[38;5;28;01mawait\u001b[39;00m \u001b[38;5;28mself\u001b[39m\u001b[38;5;241m.\u001b[39mcontent\u001b[38;5;241m.\u001b[39mread()\n\u001b[1;32m   1215\u001b[0m         \u001b[38;5;28;01mfor\u001b[39;00m trace \u001b[38;5;129;01min\u001b[39;00m \u001b[38;5;28mself\u001b[39m\u001b[38;5;241m.\u001b[39m_traces:\n\u001b[1;32m   1216\u001b[0m             \u001b[38;5;28;01mawait\u001b[39;00m trace\u001b[38;5;241m.\u001b[39msend_response_chunk_received(\n\u001b[1;32m   1217\u001b[0m                 \u001b[38;5;28mself\u001b[39m\u001b[38;5;241m.\u001b[39mmethod, \u001b[38;5;28mself\u001b[39m\u001b[38;5;241m.\u001b[39murl, \u001b[38;5;28mself\u001b[39m\u001b[38;5;241m.\u001b[39m_body\n\u001b[1;32m   1218\u001b[0m             )\n",
      "File \u001b[0;32m~/env/lib/python3.12/site-packages/aiohttp/streams.py:386\u001b[0m, in \u001b[0;36mStreamReader.read\u001b[0;34m(self, n)\u001b[0m\n\u001b[1;32m    384\u001b[0m blocks \u001b[38;5;241m=\u001b[39m []\n\u001b[1;32m    385\u001b[0m \u001b[38;5;28;01mwhile\u001b[39;00m \u001b[38;5;28;01mTrue\u001b[39;00m:\n\u001b[0;32m--> 386\u001b[0m     block \u001b[38;5;241m=\u001b[39m \u001b[38;5;28;01mawait\u001b[39;00m \u001b[38;5;28mself\u001b[39m\u001b[38;5;241m.\u001b[39mreadany()\n\u001b[1;32m    387\u001b[0m     \u001b[38;5;28;01mif\u001b[39;00m \u001b[38;5;129;01mnot\u001b[39;00m block:\n\u001b[1;32m    388\u001b[0m         \u001b[38;5;28;01mbreak\u001b[39;00m\n",
      "File \u001b[0;32m~/env/lib/python3.12/site-packages/aiohttp/streams.py:408\u001b[0m, in \u001b[0;36mStreamReader.readany\u001b[0;34m(self)\u001b[0m\n\u001b[1;32m    404\u001b[0m \u001b[38;5;66;03m# TODO: should be `if` instead of `while`\u001b[39;00m\n\u001b[1;32m    405\u001b[0m \u001b[38;5;66;03m# because waiter maybe triggered on chunk end,\u001b[39;00m\n\u001b[1;32m    406\u001b[0m \u001b[38;5;66;03m# without feeding any data\u001b[39;00m\n\u001b[1;32m    407\u001b[0m \u001b[38;5;28;01mwhile\u001b[39;00m \u001b[38;5;129;01mnot\u001b[39;00m \u001b[38;5;28mself\u001b[39m\u001b[38;5;241m.\u001b[39m_buffer \u001b[38;5;129;01mand\u001b[39;00m \u001b[38;5;129;01mnot\u001b[39;00m \u001b[38;5;28mself\u001b[39m\u001b[38;5;241m.\u001b[39m_eof:\n\u001b[0;32m--> 408\u001b[0m     \u001b[38;5;28;01mawait\u001b[39;00m \u001b[38;5;28mself\u001b[39m\u001b[38;5;241m.\u001b[39m_wait(\u001b[38;5;124m\"\u001b[39m\u001b[38;5;124mreadany\u001b[39m\u001b[38;5;124m\"\u001b[39m)\n\u001b[1;32m    410\u001b[0m \u001b[38;5;28;01mreturn\u001b[39;00m \u001b[38;5;28mself\u001b[39m\u001b[38;5;241m.\u001b[39m_read_nowait(\u001b[38;5;241m-\u001b[39m\u001b[38;5;241m1\u001b[39m)\n",
      "File \u001b[0;32m~/env/lib/python3.12/site-packages/aiohttp/streams.py:315\u001b[0m, in \u001b[0;36mStreamReader._wait\u001b[0;34m(self, func_name)\u001b[0m\n\u001b[1;32m    313\u001b[0m \u001b[38;5;28;01mtry\u001b[39;00m:\n\u001b[1;32m    314\u001b[0m     \u001b[38;5;28;01mwith\u001b[39;00m \u001b[38;5;28mself\u001b[39m\u001b[38;5;241m.\u001b[39m_timer:\n\u001b[0;32m--> 315\u001b[0m         \u001b[38;5;28;01mawait\u001b[39;00m waiter\n\u001b[1;32m    316\u001b[0m \u001b[38;5;28;01mfinally\u001b[39;00m:\n\u001b[1;32m    317\u001b[0m     \u001b[38;5;28mself\u001b[39m\u001b[38;5;241m.\u001b[39m_waiter \u001b[38;5;241m=\u001b[39m \u001b[38;5;28;01mNone\u001b[39;00m\n",
      "\u001b[0;31mClientPayloadError\u001b[0m: Response payload is not completed: <ContentLengthError: 400, message='Not enough data for satisfy content length header.'>"
     ]
    }
   ],
   "source": [
    "from corkit.lasco import downloader\n",
    "from datetime import datetime\n",
    "\n",
    "#Give a tuple with datetime values, doesn't expect resolutions higher than days.\n",
    "interval_time = [(\n",
    "    datetime(2003, 10, 20),\n",
    "    datetime(2003, 10, 30)\n",
    ")]\n",
    "\n",
    "lasco_down = downloader('c2', root = path) #C2 coronagraph\n",
    "\n",
    "await lasco_down(interval_time)\n",
    "\n",
    "lasco_down = downloader('c3', root = path) #C3 coronagraph"
   ]
  },
  {
   "cell_type": "code",
   "execution_count": null,
   "metadata": {},
   "outputs": [],
   "source": [
    "#c2 coronagraph\n",
    "sorted(list(filter(lambda x: '20031028' in x, os.listdir(os.path.join(path, 'c2')))))"
   ]
  },
  {
   "cell_type": "code",
   "execution_count": null,
   "metadata": {},
   "outputs": [],
   "source": [
    "#c3 coronagraph\n",
    "sorted(list(filter(lambda x: '20031028' in x, os.listdir(os.path.join(path, 'c3')))))"
   ]
  },
  {
   "cell_type": "markdown",
   "metadata": {},
   "source": [
    "## Calibrating data"
   ]
  },
  {
   "cell_type": "code",
   "execution_count": null,
   "metadata": {},
   "outputs": [],
   "source": [
    "from corkit.lasco import level_1\n",
    "\n",
    "file = os.path.join(path, 'c2', '20031028_125405.fits')\n",
    "\n",
    "img, header = level_1(\n",
    "    file, \n",
    "    os.path.join(path, 'prueba.fits') #saves the file here\n",
    ")"
   ]
  },
  {
   "cell_type": "code",
   "execution_count": null,
   "metadata": {},
   "outputs": [],
   "source": [
    "from astropy.visualization import HistEqStretch, ImageNormalize\n",
    "import matplotlib.pyplot as plt\n",
    "from corkit.utils import FITS\n",
    "import numpy as np\n",
    "import matplotlib\n",
    "import copy\n",
    "import os\n",
    "#official level 1 (SolarSoft)\n",
    "img1 , header1 = FITS('docs/examples/25157677.fits')\n",
    "print(header1['date-obs'])\n",
    "def prepare_img(img):\n",
    "    finite_data = img[np.isfinite(img)]\n",
    "    norm = ImageNormalize(stretch=HistEqStretch(finite_data))\n",
    "    return norm\n",
    "\n",
    "norm = prepare_img(img)\n",
    "norm1 = prepare_img(img1)\n",
    "\n",
    "#plot\n",
    "fig, ax = plt.subplots(1, 2)\n",
    "cmap = copy.copy(matplotlib.colormaps['gray'])\n",
    "cmap.set_bad(color='red')\n",
    "\n",
    "# For CorKit\n",
    "im1 = ax[0].imshow(img, norm=norm, interpolation='nearest', origin='lower')\n",
    "ax[0].set(title='Corkit')\n",
    "ax[0].set_facecolor('black')  \n",
    "ax[0].set_xticks([])  \n",
    "ax[0].set_yticks([]) \n",
    "\n",
    "# For Solarsoft\n",
    "im2 = ax[1].imshow(img1, norm=norm1, interpolation='nearest', origin='lower')\n",
    "ax[1].set(title='SolarSoft')\n",
    "ax[1].set_facecolor('black') \n",
    "ax[1].set_xticks([])  \n",
    "ax[1].set_yticks([])  \n",
    "\n",
    "fig.patch.set_facecolor('black')\n",
    "\n",
    "for axis in ax:\n",
    "    axis.title.set_color('white')\n",
    "\n",
    "plt.savefig('docs/examples/c2.png', facecolor='black', bbox_inches='tight')\n",
    "\n",
    "plt.show()"
   ]
  },
  {
   "cell_type": "markdown",
   "metadata": {},
   "source": [
    "## Studying CMEs"
   ]
  },
  {
   "cell_type": "code",
   "execution_count": null,
   "metadata": {},
   "outputs": [],
   "source": [
    "from corkit.lasco import CME\n",
    "from astropy.io import fits\n",
    "\n",
    "cme_analysis = CME()\n",
    "\n",
    "bn = os.path.join(path, 'c2', '20031028_113005.fits')\n",
    "fn = os.path.join(path, 'c2', '20031028_115405.fits')\n",
    "\n",
    "## We need a base img and final image to compute the mass of the CME\n",
    "mass_img = cme_analysis.mass(bn, fn, ALL = True)\n",
    "\n",
    "cme_analysis.plot(mass_img, fits.getheader(fn))"
   ]
  },
  {
   "cell_type": "code",
   "execution_count": null,
   "metadata": {},
   "outputs": [],
   "source": [
    "bn = os.path.join(path, 'c3', '20031028_121805.fits')\n",
    "fn = os.path.join(path, 'c3', '20031028_124207.fits')\n",
    "\n",
    "mass_img = cme_analysis.mass(bn, fn, ALL = True)\n",
    "\n",
    "cme_analysis.plot(mass_img, fits.getheader(fn))"
   ]
  },
  {
   "cell_type": "code",
   "execution_count": null,
   "metadata": {},
   "outputs": [],
   "source": [
    "bn = os.path.join(path, 'c3', '20031028_204917.fits')\n",
    "fn = os.path.join(path, 'c3', '20031028_212754.fits')\n",
    "\n",
    "mass_img = cme_analysis.mass(bn, fn, ALL = True)\n",
    "\n",
    "cme_analysis.plot(mass_img, fits.getheader(fn))"
   ]
  }
 ],
 "metadata": {
  "kernelspec": {
   "display_name": "Python 3 (ipykernel)",
   "language": "python",
   "name": "python3"
  },
  "language_info": {
   "codemirror_mode": {
    "name": "ipython",
    "version": 3
   },
   "file_extension": ".py",
   "mimetype": "text/x-python",
   "name": "python",
   "nbconvert_exporter": "python",
   "pygments_lexer": "ipython3",
   "version": "3.12.7"
  }
 },
 "nbformat": 4,
 "nbformat_minor": 4
}
