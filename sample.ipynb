{
 "cells": [
  {
   "cell_type": "markdown",
   "metadata": {},
   "source": [
    "# SOHO | LASCO"
   ]
  },
  {
   "cell_type": "code",
   "execution_count": 1,
   "metadata": {},
   "outputs": [],
   "source": [
    "import os\n",
    "#define the path where you want the files to be downloaded\n",
    "path = os.path.expanduser('~/examples')"
   ]
  },
  {
   "cell_type": "code",
   "execution_count": 2,
   "metadata": {},
   "outputs": [
    {
     "name": "stdout",
     "output_type": "stream",
     "text": [
      "\n",
      "Automagic is OFF, % prefix IS needed for line magics.\n"
     ]
    }
   ],
   "source": [
    "#turn on automagic (if says OFF rerun this cell)\n",
    "%automagic"
   ]
  },
  {
   "cell_type": "markdown",
   "metadata": {},
   "source": [
    "## Downloading data"
   ]
  },
  {
   "cell_type": "code",
   "execution_count": 3,
   "metadata": {},
   "outputs": [],
   "source": [
    "from corkit.lasco import downloader\n",
    "from datetime import datetime\n",
    "\n",
    "#Give a tuple with datetime values, doesn't expect resolutions higher than days.\n",
    "interval_time = [(\n",
    "    datetime(2003, 10, 20),\n",
    "    datetime(2003, 10, 30)\n",
    ")]\n",
    "\n",
    "lasco_down = downloader('c2', root = path) #C2 coronagraph\n",
    "\n",
    "await lasco_down(interval_time)\n",
    "\n",
    "lasco_down = downloader('c3', root = path) #C3 coronagraph\n",
    "\n",
    "await lasco_down(interval_time)"
   ]
  },
  {
   "cell_type": "code",
   "execution_count": 4,
   "metadata": {},
   "outputs": [
    {
     "data": {
      "text/plain": [
       "['20031028_000606.fits',\n",
       " '20031028_003005.fits',\n",
       " '20031028_005405.fits',\n",
       " '20031028_013145.fits',\n",
       " '20031028_015405.fits',\n",
       " '20031028_020605.fits',\n",
       " '20031028_023006.fits',\n",
       " '20031028_025405.fits',\n",
       " '20031028_030605.fits',\n",
       " '20031028_033005.fits',\n",
       " '20031028_035405.fits',\n",
       " '20031028_040605.fits',\n",
       " '20031028_043005.fits',\n",
       " '20031028_045405.fits',\n",
       " '20031028_050605.fits',\n",
       " '20031028_053005.fits',\n",
       " '20031028_055405.fits',\n",
       " '20031028_060605.fits',\n",
       " '20031028_063005.fits',\n",
       " '20031028_065405.fits',\n",
       " '20031028_073143.fits',\n",
       " '20031028_075405.fits',\n",
       " '20031028_080605.fits',\n",
       " '20031028_083005.fits',\n",
       " '20031028_085405.fits',\n",
       " '20031028_090605.fits',\n",
       " '20031028_093005.fits',\n",
       " '20031028_095405.fits',\n",
       " '20031028_100606.fits',\n",
       " '20031028_103021.fits',\n",
       " '20031028_105405.fits',\n",
       " '20031028_110605.fits',\n",
       " '20031028_113005.fits',\n",
       " '20031028_115405.fits',\n",
       " '20031028_120607.fits',\n",
       " '20031028_123005.fits',\n",
       " '20031028_125405.fits',\n",
       " '20031028_133157.fits',\n",
       " '20031028_135546.fits',\n",
       " '20031028_140749.fits',\n",
       " '20031028_143518.fits',\n",
       " '20031028_151429.fits',\n",
       " '20031028_153236.fits',\n",
       " '20031028_160901.fits',\n",
       " '20031028_165102.fits',\n",
       " '20031028_171009.fits',\n",
       " '20031028_174759.fits',\n",
       " '20031028_183035.fits',\n",
       " '20031028_184941.fits',\n",
       " '20031028_192744.fits',\n",
       " '20031028_201035.fits',\n",
       " '20031028_202947.fits',\n",
       " '20031028_210819.fits',\n",
       " '20031028_215143.fits',\n",
       " '20031028_230016.fits',\n",
       " '20031028_234524.fits']"
      ]
     },
     "execution_count": 4,
     "metadata": {},
     "output_type": "execute_result"
    }
   ],
   "source": [
    "#c2 coronagraph\n",
    "sorted(list(filter(lambda x: '20031028' in x, os.listdir(os.path.join(path, 'c2')))))"
   ]
  },
  {
   "cell_type": "code",
   "execution_count": 5,
   "metadata": {},
   "outputs": [
    {
     "data": {
      "text/plain": [
       "['20031028_001805.fits',\n",
       " '20031028_004205.fits',\n",
       " '20031028_014205.fits',\n",
       " '20031028_021807.fits',\n",
       " '20031028_024205.fits',\n",
       " '20031028_031805.fits',\n",
       " '20031028_034205.fits',\n",
       " '20031028_041805.fits',\n",
       " '20031028_044206.fits',\n",
       " '20031028_051806.fits',\n",
       " '20031028_054205.fits',\n",
       " '20031028_061805.fits',\n",
       " '20031028_064206.fits',\n",
       " '20031028_074205.fits',\n",
       " '20031028_081805.fits',\n",
       " '20031028_084205.fits',\n",
       " '20031028_091805.fits',\n",
       " '20031028_094205.fits',\n",
       " '20031028_101032.fits',\n",
       " '20031028_102002.fits',\n",
       " '20031028_104205.fits',\n",
       " '20031028_111807.fits',\n",
       " '20031028_114205.fits',\n",
       " '20031028_121805.fits',\n",
       " '20031028_124207.fits',\n",
       " '20031028_134348.fits',\n",
       " '20031028_141959.fits',\n",
       " '20031028_145249.fits',\n",
       " '20031028_155047.fits',\n",
       " '20031028_162750.fits',\n",
       " '20031028_172920.fits',\n",
       " '20031028_180709.fits',\n",
       " '20031028_190850.fits',\n",
       " '20031028_194703.fits',\n",
       " '20031028_204917.fits',\n",
       " '20031028_212754.fits',\n",
       " '20031028_232026.fits']"
      ]
     },
     "execution_count": 5,
     "metadata": {},
     "output_type": "execute_result"
    }
   ],
   "source": [
    "#c3 coronagraph\n",
    "sorted(list(filter(lambda x: '20031028' in x, os.listdir(os.path.join(path, 'c3')))))"
   ]
  },
  {
   "cell_type": "code",
   "execution_count": null,
   "metadata": {
    "editable": true,
    "slideshow": {
     "slide_type": ""
    },
    "tags": []
   },
   "outputs": [
    {
     "name": "stdout",
     "output_type": "stream",
     "text": [
      "Checking calib datasets...\n",
      "Cheking data_anal directory...\n",
      "Checking ancil_data/attitude/predictive dataset...\n"
     ]
    }
   ],
   "source": [
    "from corkit.dataset import update\n",
    "import nest_asyncio\n",
    "import asyncio\n",
    "\n",
    "nest_asyncio.apply()\n",
    "\n",
    "async def main() -> None:\n",
    "    await update()\n",
    "\n",
    "asyncio.run(main())"
   ]
  },
  {
   "cell_type": "markdown",
   "metadata": {},
   "source": [
    "## Calibrating data"
   ]
  },
  {
   "cell_type": "code",
   "execution_count": null,
   "metadata": {},
   "outputs": [],
   "source": [
    "from corkit.lasco import level_1\n",
    "\n",
    "file = os.path.join(path, 'c2', '20031028_125405.fits')\n",
    "\n",
    "img, header = level_1(\n",
    "    file, \n",
    "    os.path.join(path, 'prueba.fits') #saves the file here\n",
    ")"
   ]
  },
  {
   "cell_type": "code",
   "execution_count": null,
   "metadata": {},
   "outputs": [],
   "source": [
    "from astropy.visualization import HistEqStretch, ImageNormalize\n",
    "import matplotlib.pyplot as plt\n",
    "from corkit.utils import FITS\n",
    "import numpy as np\n",
    "import matplotlib\n",
    "import copy\n",
    "import os\n",
    "#official level 1 (SolarSoft)\n",
    "img1 , header1 = FITS('docs/examples/25157677.fits')\n",
    "print(header1['date-obs'])\n",
    "def prepare_img(img):\n",
    "    finite_data = img[np.isfinite(img)]\n",
    "    norm = ImageNormalize(stretch=HistEqStretch(finite_data))\n",
    "    return norm\n",
    "\n",
    "norm = prepare_img(img)\n",
    "norm1 = prepare_img(img1)\n",
    "\n",
    "#plot\n",
    "fig, ax = plt.subplots(1, 2)\n",
    "cmap = copy.copy(matplotlib.colormaps['gray'])\n",
    "cmap.set_bad(color='red')\n",
    "\n",
    "# For CorKit\n",
    "im1 = ax[0].imshow(img, norm=norm, interpolation='nearest', origin='lower')\n",
    "ax[0].set(title='Corkit')\n",
    "ax[0].set_facecolor('black')  \n",
    "ax[0].set_xticks([])  \n",
    "ax[0].set_yticks([]) \n",
    "\n",
    "# For Solarsoft\n",
    "im2 = ax[1].imshow(img1, norm=norm1, interpolation='nearest', origin='lower')\n",
    "ax[1].set(title='SolarSoft')\n",
    "ax[1].set_facecolor('black') \n",
    "ax[1].set_xticks([])  \n",
    "ax[1].set_yticks([])  \n",
    "\n",
    "fig.patch.set_facecolor('black')\n",
    "\n",
    "for axis in ax:\n",
    "    axis.title.set_color('white')\n",
    "\n",
    "plt.savefig('docs/examples/c2.png', facecolor='black', bbox_inches='tight')\n",
    "\n",
    "plt.show()"
   ]
  },
  {
   "cell_type": "code",
   "execution_count": null,
   "metadata": {},
   "outputs": [],
   "source": [
    "from corkit.lasco import level_1\n",
    "\n",
    "file = os.path.join(path, 'c3', '20031028_044206.fits')\n",
    "\n",
    "level_1(\n",
    "    [file], \n",
    "    os.path.join(path, 'prueba_2.fits')\n",
    ")"
   ]
  },
  {
   "cell_type": "markdown",
   "metadata": {},
   "source": [
    "## Studying CMEs"
   ]
  },
  {
   "cell_type": "code",
   "execution_count": null,
   "metadata": {},
   "outputs": [],
   "source": [
    "from corkit.lasco import CME\n",
    "from astropy.io import fits\n",
    "\n",
    "cme_analysis = CME()\n",
    "\n",
    "bn = os.path.join(path, 'c2', '20031028_113005.fits')\n",
    "fn = os.path.join(path, 'c2', '20031028_115405.fits')\n",
    "\n",
    "## We need a base img and final image to compute the mass of the CME\n",
    "mass_img = cme_analysis.mass(bn, fn, ALL = True)\n",
    "\n",
    "cme_analysis.plot(mass_img, fits.getheader(fn))"
   ]
  },
  {
   "cell_type": "code",
   "execution_count": null,
   "metadata": {},
   "outputs": [],
   "source": [
    "bn = os.path.join(path, 'c3', '20031028_121805.fits')\n",
    "fn = os.path.join(path, 'c3', '20031028_124207.fits')\n",
    "\n",
    "mass_img = cme_analysis.mass(bn, fn, ALL = True)\n",
    "\n",
    "cme_analysis.plot(mass_img, fits.getheader(fn))"
   ]
  },
  {
   "cell_type": "code",
   "execution_count": null,
   "metadata": {},
   "outputs": [],
   "source": [
    "bn = os.path.join(path, 'c3', '20031028_204917.fits')\n",
    "fn = os.path.join(path, 'c3', '20031028_212754.fits')\n",
    "\n",
    "mass_img = cme_analysis.mass(bn, fn, ALL = True)\n",
    "\n",
    "cme_analysis.plot(mass_img, fits.getheader(fn))"
   ]
  }
 ],
 "metadata": {
  "kernelspec": {
   "display_name": "Python 3 (ipykernel)",
   "language": "python",
   "name": "python3"
  },
  "language_info": {
   "codemirror_mode": {
    "name": "ipython",
    "version": 3
   },
   "file_extension": ".py",
   "mimetype": "text/x-python",
   "name": "python",
   "nbconvert_exporter": "python",
   "pygments_lexer": "ipython3",
   "version": "3.12.7"
  }
 },
 "nbformat": 4,
 "nbformat_minor": 4
}
