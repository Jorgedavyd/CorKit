{
 "cells": [
  {
   "cell_type": "markdown",
   "metadata": {},
   "source": [
    "# LASCO C2"
   ]
  },
  {
   "cell_type": "code",
   "execution_count": null,
   "metadata": {},
   "outputs": [],
   "source": [
    "import os\n",
    "#define the path where you want the files to be downloaded\n",
    "path = os.path.expanduser('~/Desktop/corkit_examples')"
   ]
  },
  {
   "cell_type": "code",
   "execution_count": null,
   "metadata": {},
   "outputs": [],
   "source": [
    "#turn on automagic (if says OFF rerun this cell)\n",
    "%automagic"
   ]
  },
  {
   "cell_type": "markdown",
   "metadata": {},
   "source": [
    "## Downloading data"
   ]
  },
  {
   "cell_type": "code",
   "execution_count": null,
   "metadata": {},
   "outputs": [],
   "source": [
    "from corkit.lasco import downloader\n",
    "from datetime import datetime\n",
    "\n",
    "#Give a tuple with datetime values, doesn't expect resolutions higher than days.\n",
    "interval_time = [(\n",
    "    datetime(2003, 10, 25),\n",
    "    datetime(2003, 10, 30)\n",
    ")]\n",
    "\n",
    "lasco_down = downloader('c2', root = path) #C2 coronagraph\n",
    "\n",
    "await lasco_down(interval_time)"
   ]
  },
  {
   "cell_type": "code",
   "execution_count": null,
   "metadata": {},
   "outputs": [],
   "source": [
    "sorted(list(filter(lambda x: '20031028' in x, os.listdir(os.path.join(path, 'c2')))))"
   ]
  },
  {
   "cell_type": "markdown",
   "metadata": {},
   "source": [
    "## Calibrating data"
   ]
  },
  {
   "cell_type": "code",
   "execution_count": null,
   "metadata": {},
   "outputs": [],
   "source": [
    "from corkit.lasco import level_1\n",
    "\n",
    "file = os.path.join(path, 'c2', '20031028_125405.fits')\n",
    "\n",
    "img, header = level_1(\n",
    "    file, \n",
    "    os.path.join(path, 'prueba.fits') #saves the file here\n",
    ")"
   ]
  },
  {
   "cell_type": "code",
   "execution_count": null,
   "metadata": {},
   "outputs": [],
   "source": [
    "from astropy.visualization import HistEqStretch, ImageNormalize\n",
    "import matplotlib.pyplot as plt\n",
    "from corkit.utils import FITS\n",
    "import numpy as np\n",
    "import matplotlib\n",
    "import copy\n",
    "import os\n",
    "#official level 1 (SolarSoft)\n",
    "img1 , header1 = FITS('docs/examples/25157677.fits')\n",
    "\n",
    "def prepare_img(img):\n",
    "    finite_data = img[np.isfinite(img)]\n",
    "    norm = ImageNormalize(stretch=HistEqStretch(finite_data))\n",
    "    return norm\n",
    "\n",
    "norm = prepare_img(img)\n",
    "norm1 = prepare_img(img1)\n",
    "\n",
    "#plot\n",
    "fig, ax = plt.subplots(1, 2)\n",
    "cmap = copy.copy(matplotlib.colormaps['gray'])\n",
    "cmap.set_bad(color='red')\n",
    "\n",
    "# For CorKit\n",
    "im1 = ax[0].imshow(img.T, norm=norm, interpolation='nearest', origin='lower')\n",
    "ax[0].set(title='Corkit')\n",
    "ax[0].set_facecolor('black')  \n",
    "ax[0].set_xticks([])  \n",
    "ax[0].set_yticks([]) \n",
    "\n",
    "# For Solarsoft\n",
    "im2 = ax[1].imshow(img1, norm=norm1, interpolation='nearest', origin='lower')\n",
    "ax[1].set(title='SolarSoft')\n",
    "ax[1].set_facecolor('black') \n",
    "ax[1].set_xticks([])  \n",
    "ax[1].set_yticks([])  \n",
    "\n",
    "fig.patch.set_facecolor('black')\n",
    "\n",
    "for axis in ax:\n",
    "    axis.title.set_color('white')\n",
    "\n",
    "plt.savefig('docs/examples/c2.png', facecolor='black', bbox_inches='tight')\n",
    "\n",
    "plt.show()"
   ]
  },
  {
   "cell_type": "code",
   "execution_count": null,
   "metadata": {},
   "outputs": [],
   "source": []
  }
 ],
 "metadata": {
  "kernelspec": {
   "display_name": "Python 3",
   "language": "python",
   "name": "python3"
  },
  "language_info": {
   "codemirror_mode": {
    "name": "ipython",
    "version": 3
   },
   "file_extension": ".py",
   "mimetype": "text/x-python",
   "name": "python",
   "nbconvert_exporter": "python",
   "pygments_lexer": "ipython3",
   "version": "3.10.12"
  }
 },
 "nbformat": 4,
 "nbformat_minor": 2
}
